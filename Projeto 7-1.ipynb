{
 "cells": [
  {
   "cell_type": "markdown",
   "metadata": {},
   "source": [
    "# Projeto 7\n",
    "## projeto da aula de análise de dados"
   ]
  },
  {
   "cell_type": "code",
   "execution_count": 69,
   "metadata": {},
   "outputs": [
    {
     "name": "stdout",
     "output_type": "stream",
     "text": [
      "Note: you may need to restart the kernel to use updated packages.\n"
     ]
    },
    {
     "name": "stderr",
     "output_type": "stream",
     "text": [
      "ERROR: Could not find a version that satisfies the requirement wartermark (from versions: none)\n",
      "ERROR: No matching distribution found for wartermark\n"
     ]
    }
   ],
   "source": [
    "%pip install -q -U wartermark"
   ]
  },
  {
   "cell_type": "code",
   "execution_count": 70,
   "metadata": {},
   "outputs": [],
   "source": [
    "# Importando as bibliotecas necessárias #\n",
    "import re\n",
    "import numpy as np\n",
    "import pandas as pd\n",
    "import matplotlib\n",
    "import matplotlib.pyplot as plt\n",
    "import seaborn as sns\n",
    "import warnings\n",
    "warnings.filterwarnings('ignore')\n"
   ]
  },
  {
   "cell_type": "code",
   "execution_count": 71,
   "metadata": {},
   "outputs": [
    {
     "name": "stdout",
     "output_type": "stream",
     "text": [
      "Author: Italo Gonçalves\n",
      "\n"
     ]
    }
   ],
   "source": [
    "%reload_ext watermark\n",
    "%watermark -a \"Italo Gonçalves\""
   ]
  },
  {
   "cell_type": "code",
   "execution_count": 72,
   "metadata": {},
   "outputs": [],
   "source": [
    "# carregando os dados #\n",
    "df = pd.read_csv('C:\\\\Users\\\\Italo\\\\Documents\\\\Projeto 7\\\\dataset.csv')"
   ]
  },
  {
   "cell_type": "code",
   "execution_count": 73,
   "metadata": {},
   "outputs": [
    {
     "data": {
      "text/html": [
       "<div>\n",
       "<style scoped>\n",
       "    .dataframe tbody tr th:only-of-type {\n",
       "        vertical-align: middle;\n",
       "    }\n",
       "\n",
       "    .dataframe tbody tr th {\n",
       "        vertical-align: top;\n",
       "    }\n",
       "\n",
       "    .dataframe thead th {\n",
       "        text-align: right;\n",
       "    }\n",
       "</style>\n",
       "<table border=\"1\" class=\"dataframe\">\n",
       "  <thead>\n",
       "    <tr style=\"text-align: right;\">\n",
       "      <th></th>\n",
       "      <th>encounter_id</th>\n",
       "      <th>patient_nbr</th>\n",
       "      <th>race</th>\n",
       "      <th>gender</th>\n",
       "      <th>age</th>\n",
       "      <th>weight</th>\n",
       "      <th>admission_type_id</th>\n",
       "      <th>discharge_disposition_id</th>\n",
       "      <th>admission_source_id</th>\n",
       "      <th>time_in_hospital</th>\n",
       "      <th>...</th>\n",
       "      <th>citoglipton</th>\n",
       "      <th>insulin</th>\n",
       "      <th>glyburide-metformin</th>\n",
       "      <th>glipizide-metformin</th>\n",
       "      <th>glimepiride-pioglitazone</th>\n",
       "      <th>metformin-rosiglitazone</th>\n",
       "      <th>metformin-pioglitazone</th>\n",
       "      <th>change</th>\n",
       "      <th>diabetesMed</th>\n",
       "      <th>readmitted</th>\n",
       "    </tr>\n",
       "  </thead>\n",
       "  <tbody>\n",
       "    <tr>\n",
       "      <th>0</th>\n",
       "      <td>2278392</td>\n",
       "      <td>8222167</td>\n",
       "      <td>Caucasian</td>\n",
       "      <td>Female</td>\n",
       "      <td>[0-10)</td>\n",
       "      <td>?</td>\n",
       "      <td>6</td>\n",
       "      <td>25</td>\n",
       "      <td>1</td>\n",
       "      <td>1</td>\n",
       "      <td>...</td>\n",
       "      <td>No</td>\n",
       "      <td>No</td>\n",
       "      <td>No</td>\n",
       "      <td>No</td>\n",
       "      <td>No</td>\n",
       "      <td>No</td>\n",
       "      <td>No</td>\n",
       "      <td>No</td>\n",
       "      <td>No</td>\n",
       "      <td>NO</td>\n",
       "    </tr>\n",
       "    <tr>\n",
       "      <th>1</th>\n",
       "      <td>149190</td>\n",
       "      <td>55629189</td>\n",
       "      <td>Caucasian</td>\n",
       "      <td>Female</td>\n",
       "      <td>[10-20)</td>\n",
       "      <td>?</td>\n",
       "      <td>1</td>\n",
       "      <td>1</td>\n",
       "      <td>7</td>\n",
       "      <td>3</td>\n",
       "      <td>...</td>\n",
       "      <td>No</td>\n",
       "      <td>Up</td>\n",
       "      <td>No</td>\n",
       "      <td>No</td>\n",
       "      <td>No</td>\n",
       "      <td>No</td>\n",
       "      <td>No</td>\n",
       "      <td>Ch</td>\n",
       "      <td>Yes</td>\n",
       "      <td>&gt;30</td>\n",
       "    </tr>\n",
       "    <tr>\n",
       "      <th>2</th>\n",
       "      <td>64410</td>\n",
       "      <td>86047875</td>\n",
       "      <td>AfricanAmerican</td>\n",
       "      <td>Female</td>\n",
       "      <td>[20-30)</td>\n",
       "      <td>?</td>\n",
       "      <td>1</td>\n",
       "      <td>1</td>\n",
       "      <td>7</td>\n",
       "      <td>2</td>\n",
       "      <td>...</td>\n",
       "      <td>No</td>\n",
       "      <td>No</td>\n",
       "      <td>No</td>\n",
       "      <td>No</td>\n",
       "      <td>No</td>\n",
       "      <td>No</td>\n",
       "      <td>No</td>\n",
       "      <td>No</td>\n",
       "      <td>Yes</td>\n",
       "      <td>NO</td>\n",
       "    </tr>\n",
       "    <tr>\n",
       "      <th>3</th>\n",
       "      <td>500364</td>\n",
       "      <td>82442376</td>\n",
       "      <td>Caucasian</td>\n",
       "      <td>Male</td>\n",
       "      <td>[30-40)</td>\n",
       "      <td>?</td>\n",
       "      <td>1</td>\n",
       "      <td>1</td>\n",
       "      <td>7</td>\n",
       "      <td>2</td>\n",
       "      <td>...</td>\n",
       "      <td>No</td>\n",
       "      <td>Up</td>\n",
       "      <td>No</td>\n",
       "      <td>No</td>\n",
       "      <td>No</td>\n",
       "      <td>No</td>\n",
       "      <td>No</td>\n",
       "      <td>Ch</td>\n",
       "      <td>Yes</td>\n",
       "      <td>NO</td>\n",
       "    </tr>\n",
       "    <tr>\n",
       "      <th>4</th>\n",
       "      <td>16680</td>\n",
       "      <td>42519267</td>\n",
       "      <td>Caucasian</td>\n",
       "      <td>Male</td>\n",
       "      <td>[40-50)</td>\n",
       "      <td>?</td>\n",
       "      <td>1</td>\n",
       "      <td>1</td>\n",
       "      <td>7</td>\n",
       "      <td>1</td>\n",
       "      <td>...</td>\n",
       "      <td>No</td>\n",
       "      <td>Steady</td>\n",
       "      <td>No</td>\n",
       "      <td>No</td>\n",
       "      <td>No</td>\n",
       "      <td>No</td>\n",
       "      <td>No</td>\n",
       "      <td>Ch</td>\n",
       "      <td>Yes</td>\n",
       "      <td>NO</td>\n",
       "    </tr>\n",
       "    <tr>\n",
       "      <th>5</th>\n",
       "      <td>35754</td>\n",
       "      <td>82637451</td>\n",
       "      <td>Caucasian</td>\n",
       "      <td>Male</td>\n",
       "      <td>[50-60)</td>\n",
       "      <td>?</td>\n",
       "      <td>2</td>\n",
       "      <td>1</td>\n",
       "      <td>2</td>\n",
       "      <td>3</td>\n",
       "      <td>...</td>\n",
       "      <td>No</td>\n",
       "      <td>Steady</td>\n",
       "      <td>No</td>\n",
       "      <td>No</td>\n",
       "      <td>No</td>\n",
       "      <td>No</td>\n",
       "      <td>No</td>\n",
       "      <td>No</td>\n",
       "      <td>Yes</td>\n",
       "      <td>&gt;30</td>\n",
       "    </tr>\n",
       "    <tr>\n",
       "      <th>6</th>\n",
       "      <td>55842</td>\n",
       "      <td>84259809</td>\n",
       "      <td>Caucasian</td>\n",
       "      <td>Male</td>\n",
       "      <td>[60-70)</td>\n",
       "      <td>?</td>\n",
       "      <td>3</td>\n",
       "      <td>1</td>\n",
       "      <td>2</td>\n",
       "      <td>4</td>\n",
       "      <td>...</td>\n",
       "      <td>No</td>\n",
       "      <td>Steady</td>\n",
       "      <td>No</td>\n",
       "      <td>No</td>\n",
       "      <td>No</td>\n",
       "      <td>No</td>\n",
       "      <td>No</td>\n",
       "      <td>Ch</td>\n",
       "      <td>Yes</td>\n",
       "      <td>NO</td>\n",
       "    </tr>\n",
       "    <tr>\n",
       "      <th>7</th>\n",
       "      <td>63768</td>\n",
       "      <td>114882984</td>\n",
       "      <td>Caucasian</td>\n",
       "      <td>Male</td>\n",
       "      <td>[70-80)</td>\n",
       "      <td>?</td>\n",
       "      <td>1</td>\n",
       "      <td>1</td>\n",
       "      <td>7</td>\n",
       "      <td>5</td>\n",
       "      <td>...</td>\n",
       "      <td>No</td>\n",
       "      <td>No</td>\n",
       "      <td>No</td>\n",
       "      <td>No</td>\n",
       "      <td>No</td>\n",
       "      <td>No</td>\n",
       "      <td>No</td>\n",
       "      <td>No</td>\n",
       "      <td>Yes</td>\n",
       "      <td>&gt;30</td>\n",
       "    </tr>\n",
       "    <tr>\n",
       "      <th>8</th>\n",
       "      <td>12522</td>\n",
       "      <td>48330783</td>\n",
       "      <td>Caucasian</td>\n",
       "      <td>Female</td>\n",
       "      <td>[80-90)</td>\n",
       "      <td>?</td>\n",
       "      <td>2</td>\n",
       "      <td>1</td>\n",
       "      <td>4</td>\n",
       "      <td>13</td>\n",
       "      <td>...</td>\n",
       "      <td>No</td>\n",
       "      <td>Steady</td>\n",
       "      <td>No</td>\n",
       "      <td>No</td>\n",
       "      <td>No</td>\n",
       "      <td>No</td>\n",
       "      <td>No</td>\n",
       "      <td>Ch</td>\n",
       "      <td>Yes</td>\n",
       "      <td>NO</td>\n",
       "    </tr>\n",
       "    <tr>\n",
       "      <th>9</th>\n",
       "      <td>15738</td>\n",
       "      <td>63555939</td>\n",
       "      <td>Caucasian</td>\n",
       "      <td>Female</td>\n",
       "      <td>[90-100)</td>\n",
       "      <td>?</td>\n",
       "      <td>3</td>\n",
       "      <td>3</td>\n",
       "      <td>4</td>\n",
       "      <td>12</td>\n",
       "      <td>...</td>\n",
       "      <td>No</td>\n",
       "      <td>Steady</td>\n",
       "      <td>No</td>\n",
       "      <td>No</td>\n",
       "      <td>No</td>\n",
       "      <td>No</td>\n",
       "      <td>No</td>\n",
       "      <td>Ch</td>\n",
       "      <td>Yes</td>\n",
       "      <td>NO</td>\n",
       "    </tr>\n",
       "  </tbody>\n",
       "</table>\n",
       "<p>10 rows × 50 columns</p>\n",
       "</div>"
      ],
      "text/plain": [
       "   encounter_id  patient_nbr             race  gender       age weight  \\\n",
       "0       2278392      8222167        Caucasian  Female    [0-10)      ?   \n",
       "1        149190     55629189        Caucasian  Female   [10-20)      ?   \n",
       "2         64410     86047875  AfricanAmerican  Female   [20-30)      ?   \n",
       "3        500364     82442376        Caucasian    Male   [30-40)      ?   \n",
       "4         16680     42519267        Caucasian    Male   [40-50)      ?   \n",
       "5         35754     82637451        Caucasian    Male   [50-60)      ?   \n",
       "6         55842     84259809        Caucasian    Male   [60-70)      ?   \n",
       "7         63768    114882984        Caucasian    Male   [70-80)      ?   \n",
       "8         12522     48330783        Caucasian  Female   [80-90)      ?   \n",
       "9         15738     63555939        Caucasian  Female  [90-100)      ?   \n",
       "\n",
       "   admission_type_id  discharge_disposition_id  admission_source_id  \\\n",
       "0                  6                        25                    1   \n",
       "1                  1                         1                    7   \n",
       "2                  1                         1                    7   \n",
       "3                  1                         1                    7   \n",
       "4                  1                         1                    7   \n",
       "5                  2                         1                    2   \n",
       "6                  3                         1                    2   \n",
       "7                  1                         1                    7   \n",
       "8                  2                         1                    4   \n",
       "9                  3                         3                    4   \n",
       "\n",
       "   time_in_hospital  ... citoglipton insulin  glyburide-metformin  \\\n",
       "0                 1  ...          No      No                   No   \n",
       "1                 3  ...          No      Up                   No   \n",
       "2                 2  ...          No      No                   No   \n",
       "3                 2  ...          No      Up                   No   \n",
       "4                 1  ...          No  Steady                   No   \n",
       "5                 3  ...          No  Steady                   No   \n",
       "6                 4  ...          No  Steady                   No   \n",
       "7                 5  ...          No      No                   No   \n",
       "8                13  ...          No  Steady                   No   \n",
       "9                12  ...          No  Steady                   No   \n",
       "\n",
       "   glipizide-metformin  glimepiride-pioglitazone  metformin-rosiglitazone  \\\n",
       "0                   No                        No                       No   \n",
       "1                   No                        No                       No   \n",
       "2                   No                        No                       No   \n",
       "3                   No                        No                       No   \n",
       "4                   No                        No                       No   \n",
       "5                   No                        No                       No   \n",
       "6                   No                        No                       No   \n",
       "7                   No                        No                       No   \n",
       "8                   No                        No                       No   \n",
       "9                   No                        No                       No   \n",
       "\n",
       "   metformin-pioglitazone  change diabetesMed readmitted  \n",
       "0                      No      No          No         NO  \n",
       "1                      No      Ch         Yes        >30  \n",
       "2                      No      No         Yes         NO  \n",
       "3                      No      Ch         Yes         NO  \n",
       "4                      No      Ch         Yes         NO  \n",
       "5                      No      No         Yes        >30  \n",
       "6                      No      Ch         Yes         NO  \n",
       "7                      No      No         Yes        >30  \n",
       "8                      No      Ch         Yes         NO  \n",
       "9                      No      Ch         Yes         NO  \n",
       "\n",
       "[10 rows x 50 columns]"
      ]
     },
     "execution_count": 73,
     "metadata": {},
     "output_type": "execute_result"
    }
   ],
   "source": [
    "# verificando os dados #\n",
    "df.head(10)"
   ]
  },
  {
   "cell_type": "code",
   "execution_count": 74,
   "metadata": {},
   "outputs": [
    {
     "name": "stdout",
     "output_type": "stream",
     "text": [
      "<class 'pandas.core.frame.DataFrame'>\n",
      "RangeIndex: 101766 entries, 0 to 101765\n",
      "Data columns (total 50 columns):\n",
      " #   Column                    Non-Null Count   Dtype \n",
      "---  ------                    --------------   ----- \n",
      " 0   encounter_id              101766 non-null  int64 \n",
      " 1   patient_nbr               101766 non-null  int64 \n",
      " 2   race                      101766 non-null  object\n",
      " 3   gender                    101766 non-null  object\n",
      " 4   age                       101766 non-null  object\n",
      " 5   weight                    101766 non-null  object\n",
      " 6   admission_type_id         101766 non-null  int64 \n",
      " 7   discharge_disposition_id  101766 non-null  int64 \n",
      " 8   admission_source_id       101766 non-null  int64 \n",
      " 9   time_in_hospital          101766 non-null  int64 \n",
      " 10  payer_code                101766 non-null  object\n",
      " 11  medical_specialty         101766 non-null  object\n",
      " 12  num_lab_procedures        101766 non-null  int64 \n",
      " 13  num_procedures            101766 non-null  int64 \n",
      " 14  num_medications           101766 non-null  int64 \n",
      " 15  number_outpatient         101766 non-null  int64 \n",
      " 16  number_emergency          101766 non-null  int64 \n",
      " 17  number_inpatient          101766 non-null  int64 \n",
      " 18  diag_1                    101766 non-null  object\n",
      " 19  diag_2                    101766 non-null  object\n",
      " 20  diag_3                    101766 non-null  object\n",
      " 21  number_diagnoses          101766 non-null  int64 \n",
      " 22  max_glu_serum             5346 non-null    object\n",
      " 23  A1Cresult                 17018 non-null   object\n",
      " 24  metformin                 101766 non-null  object\n",
      " 25  repaglinide               101766 non-null  object\n",
      " 26  nateglinide               101766 non-null  object\n",
      " 27  chlorpropamide            101766 non-null  object\n",
      " 28  glimepiride               101766 non-null  object\n",
      " 29  acetohexamide             101766 non-null  object\n",
      " 30  glipizide                 101766 non-null  object\n",
      " 31  glyburide                 101766 non-null  object\n",
      " 32  tolbutamide               101766 non-null  object\n",
      " 33  pioglitazone              101766 non-null  object\n",
      " 34  rosiglitazone             101766 non-null  object\n",
      " 35  acarbose                  101766 non-null  object\n",
      " 36  miglitol                  101766 non-null  object\n",
      " 37  troglitazone              101766 non-null  object\n",
      " 38  tolazamide                101766 non-null  object\n",
      " 39  examide                   101766 non-null  object\n",
      " 40  citoglipton               101766 non-null  object\n",
      " 41  insulin                   101766 non-null  object\n",
      " 42  glyburide-metformin       101766 non-null  object\n",
      " 43  glipizide-metformin       101766 non-null  object\n",
      " 44  glimepiride-pioglitazone  101766 non-null  object\n",
      " 45  metformin-rosiglitazone   101766 non-null  object\n",
      " 46  metformin-pioglitazone    101766 non-null  object\n",
      " 47  change                    101766 non-null  object\n",
      " 48  diabetesMed               101766 non-null  object\n",
      " 49  readmitted                101766 non-null  object\n",
      "dtypes: int64(13), object(37)\n",
      "memory usage: 38.8+ MB\n"
     ]
    }
   ],
   "source": [
    "# verificando as colunas do dataset e se exite valores ausentes #\n",
    "df.info()"
   ]
  },
  {
   "cell_type": "code",
   "execution_count": 75,
   "metadata": {},
   "outputs": [
    {
     "data": {
      "text/html": [
       "<div>\n",
       "<style scoped>\n",
       "    .dataframe tbody tr th:only-of-type {\n",
       "        vertical-align: middle;\n",
       "    }\n",
       "\n",
       "    .dataframe tbody tr th {\n",
       "        vertical-align: top;\n",
       "    }\n",
       "\n",
       "    .dataframe thead th {\n",
       "        text-align: right;\n",
       "    }\n",
       "</style>\n",
       "<table border=\"1\" class=\"dataframe\">\n",
       "  <thead>\n",
       "    <tr style=\"text-align: right;\">\n",
       "      <th></th>\n",
       "      <th>encounter_id</th>\n",
       "      <th>patient_nbr</th>\n",
       "      <th>admission_type_id</th>\n",
       "      <th>discharge_disposition_id</th>\n",
       "      <th>admission_source_id</th>\n",
       "      <th>time_in_hospital</th>\n",
       "      <th>num_lab_procedures</th>\n",
       "      <th>num_procedures</th>\n",
       "      <th>num_medications</th>\n",
       "      <th>number_outpatient</th>\n",
       "      <th>number_emergency</th>\n",
       "      <th>number_inpatient</th>\n",
       "      <th>number_diagnoses</th>\n",
       "    </tr>\n",
       "  </thead>\n",
       "  <tbody>\n",
       "    <tr>\n",
       "      <th>count</th>\n",
       "      <td>1.017660e+05</td>\n",
       "      <td>1.017660e+05</td>\n",
       "      <td>101766.000000</td>\n",
       "      <td>101766.000000</td>\n",
       "      <td>101766.000000</td>\n",
       "      <td>101766.000000</td>\n",
       "      <td>101766.000000</td>\n",
       "      <td>101766.000000</td>\n",
       "      <td>101766.000000</td>\n",
       "      <td>101766.000000</td>\n",
       "      <td>101766.000000</td>\n",
       "      <td>101766.000000</td>\n",
       "      <td>101766.000000</td>\n",
       "    </tr>\n",
       "    <tr>\n",
       "      <th>mean</th>\n",
       "      <td>1.652016e+08</td>\n",
       "      <td>5.433040e+07</td>\n",
       "      <td>2.024006</td>\n",
       "      <td>3.715642</td>\n",
       "      <td>5.754437</td>\n",
       "      <td>4.395987</td>\n",
       "      <td>43.095641</td>\n",
       "      <td>1.339730</td>\n",
       "      <td>16.021844</td>\n",
       "      <td>0.369357</td>\n",
       "      <td>0.197836</td>\n",
       "      <td>0.635566</td>\n",
       "      <td>7.422607</td>\n",
       "    </tr>\n",
       "    <tr>\n",
       "      <th>std</th>\n",
       "      <td>1.026403e+08</td>\n",
       "      <td>3.869636e+07</td>\n",
       "      <td>1.445403</td>\n",
       "      <td>5.280166</td>\n",
       "      <td>4.064081</td>\n",
       "      <td>2.985108</td>\n",
       "      <td>19.674362</td>\n",
       "      <td>1.705807</td>\n",
       "      <td>8.127566</td>\n",
       "      <td>1.267265</td>\n",
       "      <td>0.930472</td>\n",
       "      <td>1.262863</td>\n",
       "      <td>1.933600</td>\n",
       "    </tr>\n",
       "    <tr>\n",
       "      <th>min</th>\n",
       "      <td>1.252200e+04</td>\n",
       "      <td>1.350000e+02</td>\n",
       "      <td>1.000000</td>\n",
       "      <td>1.000000</td>\n",
       "      <td>1.000000</td>\n",
       "      <td>1.000000</td>\n",
       "      <td>1.000000</td>\n",
       "      <td>0.000000</td>\n",
       "      <td>1.000000</td>\n",
       "      <td>0.000000</td>\n",
       "      <td>0.000000</td>\n",
       "      <td>0.000000</td>\n",
       "      <td>1.000000</td>\n",
       "    </tr>\n",
       "    <tr>\n",
       "      <th>25%</th>\n",
       "      <td>8.496119e+07</td>\n",
       "      <td>2.341322e+07</td>\n",
       "      <td>1.000000</td>\n",
       "      <td>1.000000</td>\n",
       "      <td>1.000000</td>\n",
       "      <td>2.000000</td>\n",
       "      <td>31.000000</td>\n",
       "      <td>0.000000</td>\n",
       "      <td>10.000000</td>\n",
       "      <td>0.000000</td>\n",
       "      <td>0.000000</td>\n",
       "      <td>0.000000</td>\n",
       "      <td>6.000000</td>\n",
       "    </tr>\n",
       "    <tr>\n",
       "      <th>50%</th>\n",
       "      <td>1.523890e+08</td>\n",
       "      <td>4.550514e+07</td>\n",
       "      <td>1.000000</td>\n",
       "      <td>1.000000</td>\n",
       "      <td>7.000000</td>\n",
       "      <td>4.000000</td>\n",
       "      <td>44.000000</td>\n",
       "      <td>1.000000</td>\n",
       "      <td>15.000000</td>\n",
       "      <td>0.000000</td>\n",
       "      <td>0.000000</td>\n",
       "      <td>0.000000</td>\n",
       "      <td>8.000000</td>\n",
       "    </tr>\n",
       "    <tr>\n",
       "      <th>75%</th>\n",
       "      <td>2.302709e+08</td>\n",
       "      <td>8.754595e+07</td>\n",
       "      <td>3.000000</td>\n",
       "      <td>4.000000</td>\n",
       "      <td>7.000000</td>\n",
       "      <td>6.000000</td>\n",
       "      <td>57.000000</td>\n",
       "      <td>2.000000</td>\n",
       "      <td>20.000000</td>\n",
       "      <td>0.000000</td>\n",
       "      <td>0.000000</td>\n",
       "      <td>1.000000</td>\n",
       "      <td>9.000000</td>\n",
       "    </tr>\n",
       "    <tr>\n",
       "      <th>max</th>\n",
       "      <td>4.438672e+08</td>\n",
       "      <td>1.895026e+08</td>\n",
       "      <td>8.000000</td>\n",
       "      <td>28.000000</td>\n",
       "      <td>25.000000</td>\n",
       "      <td>14.000000</td>\n",
       "      <td>132.000000</td>\n",
       "      <td>6.000000</td>\n",
       "      <td>81.000000</td>\n",
       "      <td>42.000000</td>\n",
       "      <td>76.000000</td>\n",
       "      <td>21.000000</td>\n",
       "      <td>16.000000</td>\n",
       "    </tr>\n",
       "  </tbody>\n",
       "</table>\n",
       "</div>"
      ],
      "text/plain": [
       "       encounter_id   patient_nbr  admission_type_id  \\\n",
       "count  1.017660e+05  1.017660e+05      101766.000000   \n",
       "mean   1.652016e+08  5.433040e+07           2.024006   \n",
       "std    1.026403e+08  3.869636e+07           1.445403   \n",
       "min    1.252200e+04  1.350000e+02           1.000000   \n",
       "25%    8.496119e+07  2.341322e+07           1.000000   \n",
       "50%    1.523890e+08  4.550514e+07           1.000000   \n",
       "75%    2.302709e+08  8.754595e+07           3.000000   \n",
       "max    4.438672e+08  1.895026e+08           8.000000   \n",
       "\n",
       "       discharge_disposition_id  admission_source_id  time_in_hospital  \\\n",
       "count             101766.000000        101766.000000     101766.000000   \n",
       "mean                   3.715642             5.754437          4.395987   \n",
       "std                    5.280166             4.064081          2.985108   \n",
       "min                    1.000000             1.000000          1.000000   \n",
       "25%                    1.000000             1.000000          2.000000   \n",
       "50%                    1.000000             7.000000          4.000000   \n",
       "75%                    4.000000             7.000000          6.000000   \n",
       "max                   28.000000            25.000000         14.000000   \n",
       "\n",
       "       num_lab_procedures  num_procedures  num_medications  number_outpatient  \\\n",
       "count       101766.000000   101766.000000    101766.000000      101766.000000   \n",
       "mean            43.095641        1.339730        16.021844           0.369357   \n",
       "std             19.674362        1.705807         8.127566           1.267265   \n",
       "min              1.000000        0.000000         1.000000           0.000000   \n",
       "25%             31.000000        0.000000        10.000000           0.000000   \n",
       "50%             44.000000        1.000000        15.000000           0.000000   \n",
       "75%             57.000000        2.000000        20.000000           0.000000   \n",
       "max            132.000000        6.000000        81.000000          42.000000   \n",
       "\n",
       "       number_emergency  number_inpatient  number_diagnoses  \n",
       "count     101766.000000     101766.000000     101766.000000  \n",
       "mean           0.197836          0.635566          7.422607  \n",
       "std            0.930472          1.262863          1.933600  \n",
       "min            0.000000          0.000000          1.000000  \n",
       "25%            0.000000          0.000000          6.000000  \n",
       "50%            0.000000          0.000000          8.000000  \n",
       "75%            0.000000          1.000000          9.000000  \n",
       "max           76.000000         21.000000         16.000000  "
      ]
     },
     "execution_count": 75,
     "metadata": {},
     "output_type": "execute_result"
    }
   ],
   "source": [
    "df.describe()"
   ]
  },
  {
   "cell_type": "code",
   "execution_count": 76,
   "metadata": {},
   "outputs": [
    {
     "data": {
      "text/plain": [
       "encounter_id                    0\n",
       "patient_nbr                     0\n",
       "race                         2273\n",
       "gender                          0\n",
       "age                             0\n",
       "weight                      98569\n",
       "admission_type_id               0\n",
       "discharge_disposition_id        0\n",
       "admission_source_id             0\n",
       "time_in_hospital                0\n",
       "payer_code                  40256\n",
       "medical_specialty           49949\n",
       "num_lab_procedures              0\n",
       "num_procedures                  0\n",
       "num_medications                 0\n",
       "number_outpatient               0\n",
       "number_emergency                0\n",
       "number_inpatient                0\n",
       "diag_1                         21\n",
       "diag_2                        358\n",
       "diag_3                       1423\n",
       "number_diagnoses                0\n",
       "max_glu_serum                   0\n",
       "A1Cresult                       0\n",
       "metformin                       0\n",
       "repaglinide                     0\n",
       "nateglinide                     0\n",
       "chlorpropamide                  0\n",
       "glimepiride                     0\n",
       "acetohexamide                   0\n",
       "glipizide                       0\n",
       "glyburide                       0\n",
       "tolbutamide                     0\n",
       "pioglitazone                    0\n",
       "rosiglitazone                   0\n",
       "acarbose                        0\n",
       "miglitol                        0\n",
       "troglitazone                    0\n",
       "tolazamide                      0\n",
       "examide                         0\n",
       "citoglipton                     0\n",
       "insulin                         0\n",
       "glyburide-metformin             0\n",
       "glipizide-metformin             0\n",
       "glimepiride-pioglitazone        0\n",
       "metformin-rosiglitazone         0\n",
       "metformin-pioglitazone          0\n",
       "change                          0\n",
       "diabetesMed                     0\n",
       "readmitted                      0\n",
       "dtype: int64"
      ]
     },
     "execution_count": 76,
     "metadata": {},
     "output_type": "execute_result"
    }
   ],
   "source": [
    "# verificando se existe valores com o caractere \"?\" no dataset #\n",
    "df.isin(['?']).sum()"
   ]
  },
  {
   "cell_type": "code",
   "execution_count": 77,
   "metadata": {},
   "outputs": [
    {
     "name": "stdout",
     "output_type": "stream",
     "text": [
      "\n",
      "\n",
      "Número de valores únicos em encounter_id: 101766\n",
      "\n",
      "\n",
      "Número de valores únicos em patient_nbr: 71518\n",
      "\n",
      "\n",
      "Valores únicos em race: ['Caucasian' 'AfricanAmerican' '?' 'Other' 'Asian' 'Hispanic']\n",
      "\n",
      "\n",
      "Valores únicos em gender: ['Female' 'Male' 'Unknown/Invalid']\n",
      "\n",
      "\n",
      "Valores únicos em age: ['[0-10)' '[10-20)' '[20-30)' '[30-40)' '[40-50)' '[50-60)' '[60-70)'\n",
      " '[70-80)' '[80-90)' '[90-100)']\n",
      "\n",
      "\n",
      "Valores únicos em weight: ['?' '[75-100)' '[50-75)' '[0-25)' '[100-125)' '[25-50)' '[125-150)'\n",
      " '[175-200)' '[150-175)' '>200']\n",
      "\n",
      "\n",
      "Valores únicos em admission_type_id: [6 1 2 3 4 5 8 7]\n",
      "\n",
      "\n",
      "Número de valores únicos em discharge_disposition_id: 26\n",
      "\n",
      "\n",
      "Valores únicos em admission_source_id: [ 1  7  2  4  5  6 20  3 17  8  9 14 10 22 11 25 13]\n",
      "\n",
      "\n",
      "Valores únicos em time_in_hospital: [ 1  3  2  4  5 13 12  9  7 10  6 11  8 14]\n",
      "\n",
      "\n",
      "Valores únicos em payer_code: ['?' 'MC' 'MD' 'HM' 'UN' 'BC' 'SP' 'CP' 'SI' 'DM' 'CM' 'CH' 'PO' 'WC' 'OT'\n",
      " 'OG' 'MP' 'FR']\n",
      "\n",
      "\n",
      "Número de valores únicos em medical_specialty: 73\n",
      "\n",
      "\n",
      "Número de valores únicos em num_lab_procedures: 118\n",
      "\n",
      "\n",
      "Valores únicos em num_procedures: [0 5 1 6 2 3 4]\n",
      "\n",
      "\n",
      "Número de valores únicos em num_medications: 75\n",
      "\n",
      "\n",
      "Número de valores únicos em number_outpatient: 39\n",
      "\n",
      "\n",
      "Número de valores únicos em number_emergency: 33\n",
      "\n",
      "\n",
      "Número de valores únicos em number_inpatient: 21\n",
      "\n",
      "\n",
      "Número de valores únicos em diag_1: 717\n",
      "\n",
      "\n",
      "Número de valores únicos em diag_2: 749\n",
      "\n",
      "\n",
      "Número de valores únicos em diag_3: 790\n",
      "\n",
      "\n",
      "Valores únicos em number_diagnoses: [ 1  9  6  7  5  8  3  4  2 16 12 13 15 10 11 14]\n",
      "\n",
      "\n",
      "Valores únicos em max_glu_serum: [nan '>300' 'Norm' '>200']\n",
      "\n",
      "\n",
      "Valores únicos em A1Cresult: [nan '>7' '>8' 'Norm']\n",
      "\n",
      "\n",
      "Valores únicos em metformin: ['No' 'Steady' 'Up' 'Down']\n",
      "\n",
      "\n",
      "Valores únicos em repaglinide: ['No' 'Up' 'Steady' 'Down']\n",
      "\n",
      "\n",
      "Valores únicos em nateglinide: ['No' 'Steady' 'Down' 'Up']\n",
      "\n",
      "\n",
      "Valores únicos em chlorpropamide: ['No' 'Steady' 'Down' 'Up']\n",
      "\n",
      "\n",
      "Valores únicos em glimepiride: ['No' 'Steady' 'Down' 'Up']\n",
      "\n",
      "\n",
      "Valores únicos em acetohexamide: ['No' 'Steady']\n",
      "\n",
      "\n",
      "Valores únicos em glipizide: ['No' 'Steady' 'Up' 'Down']\n",
      "\n",
      "\n",
      "Valores únicos em glyburide: ['No' 'Steady' 'Up' 'Down']\n",
      "\n",
      "\n",
      "Valores únicos em tolbutamide: ['No' 'Steady']\n",
      "\n",
      "\n",
      "Valores únicos em pioglitazone: ['No' 'Steady' 'Up' 'Down']\n",
      "\n",
      "\n",
      "Valores únicos em rosiglitazone: ['No' 'Steady' 'Up' 'Down']\n",
      "\n",
      "\n",
      "Valores únicos em acarbose: ['No' 'Steady' 'Up' 'Down']\n",
      "\n",
      "\n",
      "Valores únicos em miglitol: ['No' 'Steady' 'Down' 'Up']\n",
      "\n",
      "\n",
      "Valores únicos em troglitazone: ['No' 'Steady']\n",
      "\n",
      "\n",
      "Valores únicos em tolazamide: ['No' 'Steady' 'Up']\n",
      "\n",
      "\n",
      "Valores únicos em examide: ['No']\n",
      "\n",
      "\n",
      "Valores únicos em citoglipton: ['No']\n",
      "\n",
      "\n",
      "Valores únicos em insulin: ['No' 'Up' 'Steady' 'Down']\n",
      "\n",
      "\n",
      "Valores únicos em glyburide-metformin: ['No' 'Steady' 'Down' 'Up']\n",
      "\n",
      "\n",
      "Valores únicos em glipizide-metformin: ['No' 'Steady']\n",
      "\n",
      "\n",
      "Valores únicos em glimepiride-pioglitazone: ['No' 'Steady']\n",
      "\n",
      "\n",
      "Valores únicos em metformin-rosiglitazone: ['No' 'Steady']\n",
      "\n",
      "\n",
      "Valores únicos em metformin-pioglitazone: ['No' 'Steady']\n",
      "\n",
      "\n",
      "Valores únicos em change: ['No' 'Ch']\n",
      "\n",
      "\n",
      "Valores únicos em diabetesMed: ['No' 'Yes']\n",
      "\n",
      "\n",
      "Valores únicos em readmitted: ['NO' '>30' '<30']\n"
     ]
    }
   ],
   "source": [
    "# verificando valores únicos para cada coluna do dataset para temos certeza de que não tem outros caracteres especiais nos dados #:\n",
    "for col in list(df.columns):\n",
    "    # Obtendo os valores únicos de cada coluna\n",
    "    unique_values = df[col].unique()\n",
    "\n",
    "    # Se o número de valores únicos for menor que 20, imprima os valores\n",
    "    # Caso contrário, imprima o número de valores exclusivos\n",
    "    if len(unique_values) < 20:\n",
    "        print(\"\\n\")\n",
    "        print(f\"Valores únicos em {col}: {unique_values}\")\n",
    "    else:\n",
    "        print(\"\\n\")\n",
    "        print(f\"Número de valores únicos em {col}: {len(unique_values)}\")"
   ]
  },
  {
   "cell_type": "code",
   "execution_count": 78,
   "metadata": {},
   "outputs": [
    {
     "name": "stdout",
     "output_type": "stream",
     "text": [
      "\n",
      "Coluna race tem 2273 valores com o caractere \"?\"\n",
      "Porcentagem: 2.23 %\n",
      "\n",
      "Coluna weight tem 98569 valores com o caractere \"?\"\n",
      "Porcentagem: 96.86 %\n",
      "\n",
      "Coluna payer_code tem 40256 valores com o caractere \"?\"\n",
      "Porcentagem: 39.56 %\n",
      "\n",
      "Coluna medical_specialty tem 49949 valores com o caractere \"?\"\n",
      "Porcentagem: 49.08 %\n",
      "\n",
      "Coluna diag_1 tem 21 valores com o caractere \"?\"\n",
      "Porcentagem: 0.02 %\n",
      "\n",
      "Coluna diag_2 tem 358 valores com o caractere \"?\"\n",
      "Porcentagem: 0.35 %\n",
      "\n",
      "Coluna diag_3 tem 1423 valores com o caractere \"?\"\n",
      "Porcentagem: 1.4 %\n"
     ]
    }
   ],
   "source": [
    "# Verificando qual a porcentagem de valores com o caractere \"?\" em cada coluna do dataset #:\n",
    "for col in df.columns:\n",
    "    if df[col].dtype == 'object':\n",
    "     if df[col][df[col] == '?'].count() > 0:\n",
    "        print('\\nColuna', col, 'tem', df[col][df[col] == '?'].count(), 'valores com o caractere \"?\"')\n",
    "        print('Porcentagem:', round(df[col][df[col] == '?'].count() / df[col].count() * 100, 2), '%')"
   ]
  },
  {
   "cell_type": "code",
   "execution_count": 79,
   "metadata": {},
   "outputs": [
    {
     "name": "stdout",
     "output_type": "stream",
     "text": [
      "\n",
      "Coluna gender tem 3 valores com Unknown/Invalid\n",
      "Isso representa 0.0 % dos dados\n"
     ]
    }
   ],
   "source": [
    "# analisando a coluna gender também, pois existe um valor que precisa ser tratado #\n",
    "print('\\nColuna gender tem', df['gender'][df['gender'] == 'Unknown/Invalid'].count(), 'valores com Unknown/Invalid')\n",
    "print('Isso representa', round(df['gender'][df['gender'] == 'Unknow/Invalid'].count() / len(df.index) * 100, 2), '% dos dados')"
   ]
  },
  {
   "cell_type": "code",
   "execution_count": 80,
   "metadata": {},
   "outputs": [],
   "source": [
    "# Excluido as colunas com valores ausentes maior que 30% do dataset #\n",
    "df = df.drop(['weight', 'payer_code', 'medical_specialty'], axis=1)\n"
   ]
  },
  {
   "cell_type": "code",
   "execution_count": 81,
   "metadata": {},
   "outputs": [],
   "source": [
    "# Excluindo os valores com o caractere \"?\" e também os valores com informação Unknown/Invalid na coluna gender #\n",
    "df = df[(df['race'] != '?') & \n",
    "\t\t(df['diag_1'] != '?') & \n",
    "\t\t(df['diag_2'] != '?') & \n",
    "\t\t(df['diag_3'] != '?') & \n",
    "\t\t(df['gender'] != 'Unknown/Invalid')]"
   ]
  },
  {
   "cell_type": "code",
   "execution_count": 82,
   "metadata": {},
   "outputs": [
    {
     "data": {
      "text/plain": [
       "encounter_id                0\n",
       "patient_nbr                 0\n",
       "race                        0\n",
       "gender                      0\n",
       "age                         0\n",
       "admission_type_id           0\n",
       "discharge_disposition_id    0\n",
       "admission_source_id         0\n",
       "time_in_hospital            0\n",
       "num_lab_procedures          0\n",
       "num_procedures              0\n",
       "num_medications             0\n",
       "number_outpatient           0\n",
       "number_emergency            0\n",
       "number_inpatient            0\n",
       "diag_1                      0\n",
       "diag_2                      0\n",
       "diag_3                      0\n",
       "number_diagnoses            0\n",
       "max_glu_serum               0\n",
       "A1Cresult                   0\n",
       "metformin                   0\n",
       "repaglinide                 0\n",
       "nateglinide                 0\n",
       "chlorpropamide              0\n",
       "glimepiride                 0\n",
       "acetohexamide               0\n",
       "glipizide                   0\n",
       "glyburide                   0\n",
       "tolbutamide                 0\n",
       "pioglitazone                0\n",
       "rosiglitazone               0\n",
       "acarbose                    0\n",
       "miglitol                    0\n",
       "troglitazone                0\n",
       "tolazamide                  0\n",
       "examide                     0\n",
       "citoglipton                 0\n",
       "insulin                     0\n",
       "glyburide-metformin         0\n",
       "glipizide-metformin         0\n",
       "glimepiride-pioglitazone    0\n",
       "metformin-rosiglitazone     0\n",
       "metformin-pioglitazone      0\n",
       "change                      0\n",
       "diabetesMed                 0\n",
       "readmitted                  0\n",
       "dtype: int64"
      ]
     },
     "execution_count": 82,
     "metadata": {},
     "output_type": "execute_result"
    }
   ],
   "source": [
    "# Verificando se ainda existe valores com o caractere \"?\" no dataset #:\n",
    "df.isin(['?']).sum()"
   ]
  },
  {
   "cell_type": "code",
   "execution_count": 83,
   "metadata": {},
   "outputs": [
    {
     "data": {
      "text/plain": [
       "(98052, 47)"
      ]
     },
     "execution_count": 83,
     "metadata": {},
     "output_type": "execute_result"
    }
   ],
   "source": [
    "df.shape"
   ]
  },
  {
   "cell_type": "code",
   "execution_count": 84,
   "metadata": {},
   "outputs": [
    {
     "name": "stdout",
     "output_type": "stream",
     "text": [
      "Coluna examide é constante e será excluída\n",
      "Coluna citoglipton é constante e será excluída\n",
      "Coluna metformin-rosiglitazone é constante e será excluída\n"
     ]
    }
   ],
   "source": [
    "# Verificadondo se existe colunas com varriáveis constantes no dataset #:\n",
    "for col in df.columns:\n",
    "    if df[col].nunique() == 1:\n",
    "        print('Coluna', col, 'é constante e será excluída')\n",
    "        df = df.drop(col, axis=1)"
   ]
  },
  {
   "cell_type": "code",
   "execution_count": 85,
   "metadata": {},
   "outputs": [
    {
     "data": {
      "text/plain": [
       "(98052, 44)"
      ]
     },
     "execution_count": 85,
     "metadata": {},
     "output_type": "execute_result"
    }
   ],
   "source": [
    "df.shape"
   ]
  },
  {
   "cell_type": "code",
   "execution_count": 86,
   "metadata": {},
   "outputs": [
    {
     "name": "stdout",
     "output_type": "stream",
     "text": [
      "Coluna max_glu_serum tem 92844 valores ausentes\n",
      "Porcentagem: 94.69 % dos dados\n",
      "Coluna A1Cresult tem 81859 valores ausentes\n",
      "Porcentagem: 83.49 % dos dados\n"
     ]
    }
   ],
   "source": [
    "# Calculando valores ausentes em cada coluna do dataset #:\n",
    "for col in df.columns:\n",
    "    if df[col].isnull().sum() > 0:\n",
    "        print('Coluna', col, 'tem', df[col].isnull().sum(), 'valores ausentes')\n",
    "        print('Porcentagem:', round(df[col].isnull().sum() / len(df.index) * 100, 2), '% dos dados')\n",
    "        "
   ]
  },
  {
   "cell_type": "code",
   "execution_count": 87,
   "metadata": {},
   "outputs": [
    {
     "data": {
      "text/plain": [
       "(98052, 42)"
      ]
     },
     "execution_count": 87,
     "metadata": {},
     "output_type": "execute_result"
    }
   ],
   "source": [
    "# Excluindo as colunas que tem valores ausentes #:\n",
    "df = df.drop(['max_glu_serum', 'A1Cresult'], axis=1)\n",
    "df.shape"
   ]
  },
  {
   "cell_type": "markdown",
   "metadata": {},
   "source": [
    "### Ajustando a Variável Alvo Para Estratificação de Risco\n",
    "\n",
    "Uma readmissão hospitalar ocorre quando um paciente que recebe alta do hospital é readmitido novamente dentro de um certo período de tempo. As taxas de readmissão hospitalar para certas condições agora são consideradas um indicador da qualidade do hospital e também afetam negativamente o custo médico. \n",
    "\n",
    "### Nossa variável alvo é 'readmiited'. Queremos saber se um paciente será readmitido no hospital ou não.\n",
    "\n",
    "A variável possui os valores:\n",
    "\n",
    "-- < 30 (readmissão em menos de 30 dias)\n",
    "\n",
    "-- > 30 (readmissão em mais de 30 dias)\n",
    "\n",
    "-- No   (sem readmissão)\n",
    "\n",
    "Nós podemos combinar a readmissão antes de 30 dias e após 30 dias em uma categoria (valor 1 - classe positiva) e nenhuma readmissão em outra categoria (valor 0 - classe negativa) para tornar nosso problema classificação binária."
   ]
  },
  {
   "cell_type": "code",
   "execution_count": 88,
   "metadata": {},
   "outputs": [],
   "source": [
    "dados_clean = df.copy()\n",
    "\n",
    "# Criando uma copia e caso necessario podemos voltar ao dada set original executando o comando abaixo #:\n",
    "# df = dados_clean #"
   ]
  },
  {
   "cell_type": "code",
   "execution_count": 89,
   "metadata": {},
   "outputs": [],
   "source": [
    "# Substituindo os valores de readmitted para 0 e 1 #:\n",
    "df['readmitted'] = df['readmitted'].replace({'NO': 0, '<30': 1, '>30': 1})"
   ]
  },
  {
   "cell_type": "code",
   "execution_count": 90,
   "metadata": {},
   "outputs": [
    {
     "data": {
      "text/plain": [
       "array([1, 0], dtype=int64)"
      ]
     },
     "execution_count": 90,
     "metadata": {},
     "output_type": "execute_result"
    }
   ],
   "source": [
    "# Verificando os valores únicos da coluna readmitted #:\n",
    "df['readmitted'].unique()"
   ]
  },
  {
   "cell_type": "code",
   "execution_count": 91,
   "metadata": {},
   "outputs": [
    {
     "data": {
      "text/plain": [
       "readmitted\n",
       "0    53.37678\n",
       "1    46.62322\n",
       "Name: proportion, dtype: float64"
      ]
     },
     "execution_count": 91,
     "metadata": {},
     "output_type": "execute_result"
    }
   ],
   "source": [
    "# Verificado o percentual de cada classe da coluna readmitted #:\n",
    "df['readmitted'].value_counts(normalize=True) * 100"
   ]
  },
  {
   "cell_type": "code",
   "execution_count": 92,
   "metadata": {},
   "outputs": [
    {
     "data": {
      "image/png": "[encoded data removed]",
      "text/plain": [
       "<Figure size 640x480 with 1 Axes>"
      ]
     },
     "metadata": {},
     "output_type": "display_data"
    }
   ],
   "source": [
    "# Verificando de forma gráfica o percentual de cada classe da coluna readmitted #:\n",
    "labels =['Readimitido', 'Não Readmitido']\n",
    "\n",
    "sizes = df['readmitted'].value_counts(normalize=True) * 100\n",
    "\n",
    "colors = ['#ff9999','#66b3ff']\n",
    "\n",
    "plt.axis('equal')  # Equal aspect ratio ensures that pie is drawn as a circle.\n",
    "plt.pie(sizes, labels=labels, colors=colors, autopct='%1.1f%%', startangle=90)\n",
    "plt.title('Distribuição da variável Readmitted')\n",
    "plt.show()\n",
    "\n"
   ]
  },
  {
   "cell_type": "markdown",
   "metadata": {},
   "source": [
    "## Recategoriazação de Variáveis"
   ]
  },
  {
   "cell_type": "markdown",
   "metadata": {},
   "source": [
    "Como tratar a variável idade ?"
   ]
  },
  {
   "cell_type": "code",
   "execution_count": 93,
   "metadata": {},
   "outputs": [
    {
     "data": {
      "text/plain": [
       "age\n",
       "[0-10)         65\n",
       "[10-20)       466\n",
       "[20-30)      1478\n",
       "[30-40)      3548\n",
       "[40-50)      9265\n",
       "[50-60)     16697\n",
       "[60-70)     21809\n",
       "[70-80)     25305\n",
       "[80-90)     16702\n",
       "[90-100)     2717\n",
       "dtype: int64"
      ]
     },
     "execution_count": 93,
     "metadata": {},
     "output_type": "execute_result"
    }
   ],
   "source": [
    "# Verificando a quantidade de valores por categoria #\n",
    "df.groupby('age').size()"
   ]
  },
  {
   "cell_type": "code",
   "execution_count": 94,
   "metadata": {},
   "outputs": [
    {
     "data": {
      "image/png": "[encoded data removed]",
      "text/plain": [
       "<Figure size 640x480 with 1 Axes>"
      ]
     },
     "metadata": {},
     "output_type": "display_data"
    }
   ],
   "source": [
    "# Vamos verificar a variável que representa a faixa etária dos pacientes\n",
    "\n",
    "# Agrupando os dados por idade e plotando o gráfico de barras\n",
    "df.groupby('age').size().plot(kind = 'bar', color = 'green')\n",
    "\n",
    "# Adicionando rótulo ao eixo y\n",
    "plt.ylabel('Contagem')\n",
    "\n",
    "# Rotacionando os rótulos do eixo x\n",
    "plt.xticks(rotation = 45)\n",
    "\n",
    "# Exibindo o gráfico\n",
    "plt.show()"
   ]
  },
  {
   "cell_type": "markdown",
   "metadata": {},
   "source": [
    "Podemos perceber que a maioria dos pacientes está na faixa entre 50 e 90 anos. \n",
    "\n",
    "Existem diferentes maneiras de lidar com essa variável. O conjunto de dados nos dá a idade apenas como categorias nas faixas de 10 anos, portanto, não sabemos a idade exata de cada paciente. \n",
    "\n",
    "Podemos adotar duas abordagens:\n",
    "\n",
    "1- Se queremos ver o efeito do aumento da idade na readmissão do paciente, mesmo que de maneira grosseira, podemos assumir que a idade do paciente, em média, esteja no ponto médio da categoria de idade. Por exemplo, se a categoria de idade do paciente é de 20 a 30 anos, assumimos a idade = 25 anos. Então, convertemos categorias de idade em pontos médios, resultando em uma variável numérica.\n",
    "\n",
    "\n",
    "2- Podemos recategorizar a variável, distribuindo os pacientes por um número menor de faixas e manter a variável como categórica. Nesse caso, poderíamos avaliar o risco por faixa etária e não por idade\n",
    "\n",
    "#### Adotaremos a opção 2 pois altera menos a informação contida nos dados."
   ]
  },
  {
   "cell_type": "code",
   "execution_count": 95,
   "metadata": {},
   "outputs": [],
   "source": [
    "# Recategorizando a variável age para facilitar a visualização dos dados #:\n",
    "\n",
    "# Reclassificando as idades de 0 a 50 anos em uma única categoria #\n",
    "df['age'] = pd.Series(['[0-50)' if val in ['[0-10)', '[10-20)', '[20-30)', '[30-40)', '[40-50)'] else val\n",
    "for val in df['age']], index = df.index)\n",
    "\n",
    "# Reclassificando as idades de 80 a 100 anos em uma única categoria #\n",
    "df['age'] = pd.Series(['[80-100)' if val in ['[70-80)', '[80-90)', '[90-100)'] else val\n",
    "for val in df['age']], index = df.index)\n",
    "\n"
   ]
  },
  {
   "cell_type": "code",
   "execution_count": 96,
   "metadata": {},
   "outputs": [
    {
     "data": {
      "image/png": "[encoded data removed]",
      "text/plain": [
       "<Figure size 640x480 with 1 Axes>"
      ]
     },
     "metadata": {},
     "output_type": "display_data"
    }
   ],
   "source": [
    "# Vamos verificar a variável que representa a faixa etária dos pacientes\n",
    "\n",
    "# Agrupando os dados por idade e plotando o gráfico de barras\n",
    "df.groupby('age').size().plot(kind = 'bar', color = 'magenta')\n",
    "\n",
    "# Adicionando rótulo ao eixo y\n",
    "plt.ylabel('Contagem')\n",
    "\n",
    "# Rotacionando os rótulos do eixo x\n",
    "plt.xticks(rotation = 45)\n",
    "\n",
    "# Exibindo o gráfico\n",
    "plt.show()"
   ]
  },
  {
   "cell_type": "code",
   "execution_count": 97,
   "metadata": {},
   "outputs": [],
   "source": [
    "# Mudando a coluna admission_type para somente dois valores #:\n",
    "df['admission_type_id'] = pd.Series(['Emergency' if val == 1 else 'Outros' for val in df['admission_type_id']], index = df.index)"
   ]
  },
  {
   "cell_type": "code",
   "execution_count": 98,
   "metadata": {},
   "outputs": [
    {
     "data": {
      "text/plain": [
       "2"
      ]
     },
     "execution_count": 98,
     "metadata": {},
     "output_type": "execute_result"
    }
   ],
   "source": [
    "# Conferiando a quantidade de variaveis diferentes na coluna admission_type_id #:\n",
    "df.admission_type_id.nunique()"
   ]
  },
  {
   "cell_type": "code",
   "execution_count": 99,
   "metadata": {},
   "outputs": [
    {
     "data": {
      "text/plain": [
       "admission_type_id\n",
       "Emergency    53.214621\n",
       "Outros       46.785379\n",
       "Name: proportion, dtype: float64"
      ]
     },
     "execution_count": 99,
     "metadata": {},
     "output_type": "execute_result"
    }
   ],
   "source": [
    "# Calculando os valores por categoria na coluna admission_type_id #:\n",
    "df.admission_type_id.value_counts(normalize=True) * 100 "
   ]
  },
  {
   "cell_type": "code",
   "execution_count": 100,
   "metadata": {},
   "outputs": [],
   "source": [
    "# Mudando a coluna discarge_disposition_id para somente dois valores #:\n",
    "df['discharge_disposition_id'] = pd.Series(['Casa' if val == 1 else 'Outros' for val in df['discharge_disposition_id']], index = df.index)"
   ]
  },
  {
   "cell_type": "code",
   "execution_count": 101,
   "metadata": {},
   "outputs": [
    {
     "data": {
      "text/plain": [
       "2"
      ]
     },
     "execution_count": 101,
     "metadata": {},
     "output_type": "execute_result"
    }
   ],
   "source": [
    "df.discharge_disposition_id.nunique()"
   ]
  },
  {
   "cell_type": "code",
   "execution_count": 102,
   "metadata": {},
   "outputs": [
    {
     "data": {
      "text/plain": [
       "discharge_disposition_id\n",
       "Casa      58.753519\n",
       "Outros    41.246481\n",
       "Name: proportion, dtype: float64"
      ]
     },
     "execution_count": 102,
     "metadata": {},
     "output_type": "execute_result"
    }
   ],
   "source": [
    "df.discharge_disposition_id.value_counts(normalize=True) * 100 "
   ]
  },
  {
   "cell_type": "code",
   "execution_count": 103,
   "metadata": {},
   "outputs": [],
   "source": [
    "# Mudando a coluna admission_source_id para somente três valores #:\n",
    "df['admission_source_id'] = pd.Series(['Sala_Emergencia' if val == 7 else 'Recomendacao' if val == 1 else 'Outro' \n",
    "                                              for val in df['admission_source_id']], index = df.index)"
   ]
  },
  {
   "cell_type": "code",
   "execution_count": 104,
   "metadata": {},
   "outputs": [
    {
     "data": {
      "text/plain": [
       "admission_source_id\n",
       "Sala_Emergencia    57.062579\n",
       "Recomendacao       28.918329\n",
       "Outro              14.019092\n",
       "Name: proportion, dtype: float64"
      ]
     },
     "execution_count": 104,
     "metadata": {},
     "output_type": "execute_result"
    }
   ],
   "source": [
    "df.admission_source_id.value_counts(normalize=True) * 100\n",
    "# Conferindo os valores únicos da coluna admission_source_id #:"
   ]
  },
  {
   "cell_type": "code",
   "execution_count": 105,
   "metadata": {},
   "outputs": [],
   "source": [
    "diagnostico = df[['diag_1', 'diag_2', 'diag_3']]"
   ]
  },
  {
   "cell_type": "code",
   "execution_count": 106,
   "metadata": {},
   "outputs": [],
   "source": [
    "# Função que calcula a Comorbidade\n",
    "def calcula_comorbidade(row):\n",
    "    \n",
    "    # Código 250 indica diabetes\n",
    "    codigos_doenca_diabetes = \"^[2][5][0]\"\n",
    "    \n",
    "    # Códigos 39x (x = valor entre 0 e 9)\n",
    "    # Códigos 4zx (z = valor entre 0 e 6 e x = valor entre 0 e 9)\n",
    "    # Esses códigos indicam problemas circulatórios\n",
    "    codigos_doenca_circulatorios = \"^[3][9][0-9]|^[4][0-6][0-9]\"\n",
    "    \n",
    "    # Inicializa variável de retorno\n",
    "    valor = 0\n",
    "    \n",
    "    # Valor 0 indica que:\n",
    "    # Diabetes e problemas circulatórios não foram detectados de forma simultânea no paciente\n",
    "    if(not(bool(re.match(codigos_doenca_diabetes, str(np.array(row['diag_1']))))) and\n",
    "       not(bool(re.match(codigos_doenca_diabetes, str(np.array(row['diag_2']))))) and \n",
    "       not(bool(re.match(codigos_doenca_diabetes, str(np.array(row['diag_3'])))))) and (not(\n",
    "        bool(re.match(codigos_doenca_circulatorios, str(np.array(row['diag_1']))))) and not(\n",
    "        bool(re.match(codigos_doenca_circulatorios, str(np.array(row['diag_2']))))) and not(\n",
    "        bool(re.match(codigos_doenca_circulatorios, str(np.array(row['diag_3'])))))):\n",
    "        valor = 0\n",
    "        \n",
    "    # Valor 1 indica que:\n",
    "    # Pelo menos um diagnóstico de diabetes e problemas circulatórios foram detectados de forma \n",
    "    # simultânea no paciente\n",
    "    if(bool(re.match(codigos_doenca_diabetes, str(np.array(row['diag_1'])))) or \n",
    "       bool(re.match(codigos_doenca_diabetes, str(np.array(row['diag_2'])))) or \n",
    "       bool(re.match(codigos_doenca_diabetes, str(np.array(row['diag_3']))))) and (not(\n",
    "        bool(re.match(codigos_doenca_circulatorios, str(np.array(row['diag_1']))))) and not(\n",
    "        bool(re.match(codigos_doenca_circulatorios, str(np.array(row['diag_2']))))) and not(\n",
    "        bool(re.match(codigos_doenca_circulatorios, str(np.array(row['diag_3'])))))): \n",
    "        valor = 1\n",
    "        \n",
    "    # Valor 2 indica que:\n",
    "    # Diabetes e pelo menos um diagnóstico de problemas circulatórios foram detectados de forma \n",
    "    # simultânea no paciente\n",
    "    if(not(bool(re.match(codigos_doenca_diabetes, str(np.array(row['diag_1']))))) and\n",
    "       not(bool(re.match(codigos_doenca_diabetes, str(np.array(row['diag_2']))))) and \n",
    "       not(bool(re.match(codigos_doenca_diabetes, str(np.array(row['diag_3'])))))) and (\n",
    "        bool(re.match(codigos_doenca_circulatorios, str(np.array(row['diag_1'])))) or \n",
    "        bool(re.match(codigos_doenca_circulatorios, str(np.array(row['diag_2'])))) or \n",
    "        bool(re.match(codigos_doenca_circulatorios, str(np.array(row['diag_3']))))):\n",
    "        valor = 2\n",
    "        \n",
    "    # Valor 3 indica que:\n",
    "    # Pelo menos um diagnóstico de diabetes e pelo menos um diagnóstico de problemas circulatórios \n",
    "    # foram detectados de forma simultânea no paciente\n",
    "    if(bool(re.match(codigos_doenca_diabetes, str(np.array(row['diag_1'])))) or \n",
    "       bool(re.match(codigos_doenca_diabetes, str(np.array(row['diag_2'])))) or \n",
    "       bool(re.match(codigos_doenca_diabetes, str(np.array(row['diag_3']))))) and (\n",
    "        bool(re.match(codigos_doenca_circulatorios, str(np.array(row['diag_1'])))) or \n",
    "        bool(re.match(codigos_doenca_circulatorios, str(np.array(row['diag_2'])))) or \n",
    "        bool(re.match(codigos_doenca_circulatorios, str(np.array(row['diag_3']))))):\n",
    "        valor = 3 \n",
    "    \n",
    "    return valor"
   ]
  },
  {
   "cell_type": "code",
   "execution_count": 107,
   "metadata": {},
   "outputs": [
    {
     "name": "stdout",
     "output_type": "stream",
     "text": [
      "CPU times: total: 9.66 s\n",
      "Wall time: 10 s\n"
     ]
    }
   ],
   "source": [
    "%%time\n",
    "df['comorbidade'] = diagnostico.apply(calcula_comorbidade, axis = 1)"
   ]
  },
  {
   "cell_type": "code",
   "execution_count": 108,
   "metadata": {},
   "outputs": [
    {
     "data": {
      "text/plain": [
       "comorbidade\n",
       "2    39807\n",
       "0    22389\n",
       "1    17984\n",
       "3    17872\n",
       "Name: count, dtype: int64"
      ]
     },
     "execution_count": 108,
     "metadata": {},
     "output_type": "execute_result"
    }
   ],
   "source": [
    "# Valores únicos contagem\n",
    "df['comorbidade'].value_counts()"
   ]
  },
  {
   "cell_type": "code",
   "execution_count": 109,
   "metadata": {},
   "outputs": [],
   "source": [
    "# Drop das variáveis individuais\n",
    "df.drop(['diag_1','diag_2','diag_3'], axis = 1, inplace = True)"
   ]
  },
  {
   "cell_type": "code",
   "execution_count": 110,
   "metadata": {},
   "outputs": [],
   "source": [
    "# Calcula o percentual de comorbidade por tipo e por classe da variável alvo\n",
    "percent_com = pd.crosstab(df.comorbidade, df.readmitted , normalize = 'index') * 100"
   ]
  },
  {
   "cell_type": "code",
   "execution_count": 111,
   "metadata": {},
   "outputs": [
    {
     "data": {
      "text/html": [
       "<div>\n",
       "<style scoped>\n",
       "    .dataframe tbody tr th:only-of-type {\n",
       "        vertical-align: middle;\n",
       "    }\n",
       "\n",
       "    .dataframe tbody tr th {\n",
       "        vertical-align: top;\n",
       "    }\n",
       "\n",
       "    .dataframe thead th {\n",
       "        text-align: right;\n",
       "    }\n",
       "</style>\n",
       "<table border=\"1\" class=\"dataframe\">\n",
       "  <thead>\n",
       "    <tr style=\"text-align: right;\">\n",
       "      <th>readmitted</th>\n",
       "      <th>0</th>\n",
       "      <th>1</th>\n",
       "    </tr>\n",
       "    <tr>\n",
       "      <th>comorbidade</th>\n",
       "      <th></th>\n",
       "      <th></th>\n",
       "    </tr>\n",
       "  </thead>\n",
       "  <tbody>\n",
       "    <tr>\n",
       "      <th>0</th>\n",
       "      <td>55.509402</td>\n",
       "      <td>44.490598</td>\n",
       "    </tr>\n",
       "    <tr>\n",
       "      <th>1</th>\n",
       "      <td>53.831183</td>\n",
       "      <td>46.168817</td>\n",
       "    </tr>\n",
       "    <tr>\n",
       "      <th>2</th>\n",
       "      <td>51.782350</td>\n",
       "      <td>48.217650</td>\n",
       "    </tr>\n",
       "    <tr>\n",
       "      <th>3</th>\n",
       "      <td>53.799239</td>\n",
       "      <td>46.200761</td>\n",
       "    </tr>\n",
       "  </tbody>\n",
       "</table>\n",
       "</div>"
      ],
      "text/plain": [
       "readmitted           0          1\n",
       "comorbidade                      \n",
       "0            55.509402  44.490598\n",
       "1            53.831183  46.168817\n",
       "2            51.782350  48.217650\n",
       "3            53.799239  46.200761"
      ]
     },
     "execution_count": 111,
     "metadata": {},
     "output_type": "execute_result"
    }
   ],
   "source": [
    "percent_com"
   ]
  },
  {
   "cell_type": "code",
   "execution_count": 112,
   "metadata": {},
   "outputs": [
    {
     "data": {
      "image/png": "[encoded data removed]",
      "text/plain": [
       "<Figure size 1600x800 with 1 Axes>"
      ]
     },
     "metadata": {},
     "output_type": "display_data"
    }
   ],
   "source": [
    "# Plot\n",
    "\n",
    "# Prepara a figura a partir dos dados\n",
    "fig = percent_com.plot(kind = 'bar', \n",
    "                       figsize = (16, 8), \n",
    "                       width = 0.5, \n",
    "                       edgecolor = 'g', \n",
    "                       color = ['b','r'])\n",
    "\n",
    "# Desenha cada grupo\n",
    "for i in fig .patches:\n",
    "    fig.text(i.get_x() + 0.00, \n",
    "             i.get_height() + 0.3, \n",
    "             str(round((i.get_height()), 2)), \n",
    "             fontsize = 15, \n",
    "             color = 'black',\n",
    "             rotation = 0)\n",
    "\n",
    "# Título e Print\n",
    "plt.title(\"Comorbidade vs Readmissões\", fontsize = 15)\n",
    "plt.show()"
   ]
  },
  {
   "cell_type": "markdown",
   "metadata": {},
   "source": [
    "#### Legenda do gráfico:\n",
    "\n",
    "#### Valor 0 indica que:\n",
    "#### Diabetes e problemas circulatórios não foram detectados de forma simultânea no paciente\n",
    "\n",
    "#### Valor 1 indica que:\n",
    "#### Pelo menos um diagnóstico de diabetes E problemas circulatórios foram detectados de forma simultânea no paciente\n",
    "\n",
    "#### Valor 2 indica que:\n",
    "#### Diabetes e pelo menos um diagnóstico de problemas circulatórios foram detectados de forma simultânea no paciente\n",
    "\n",
    "#### Valor 3 indica que:\n",
    "#### Pelo menos um diagnóstico de diabetes e pelo menos um dianóstico de problemas circulatórios foram detectados de \n",
    "#### forma simultânea no paciente"
   ]
  },
  {
   "cell_type": "code",
   "execution_count": 113,
   "metadata": {},
   "outputs": [],
   "source": [
    "# Lista com os nomes das variáveis de medicamentos (3 variáveis já tinham sido removidas)\n",
    "medicamentos = ['metformin', 'repaglinide', 'nateglinide', 'chlorpropamide', 'glimepiride', 'acetohexamide', \n",
    "                'glipizide', 'glyburide', 'tolbutamide', 'pioglitazone', 'rosiglitazone', 'acarbose', 'miglitol', \n",
    "                'troglitazone', 'tolazamide', 'insulin', 'glyburide-metformin', 'glipizide-metformin', \n",
    "                'glimepiride-pioglitazone', 'metformin-pioglitazone']"
   ]
  },
  {
   "cell_type": "code",
   "execution_count": 114,
   "metadata": {},
   "outputs": [],
   "source": [
    "# Loop para ajustar o valor das variáveis\n",
    "for col in medicamentos:\n",
    "    if col in df.columns:\n",
    "        colname = str(col) + 'temp'\n",
    "        df[colname] = df[col].apply(lambda x: 0 if (x == 'No' or x == 'Steady') else 1)"
   ]
  },
  {
   "cell_type": "code",
   "execution_count": 115,
   "metadata": {},
   "outputs": [],
   "source": [
    "# Cria uma variável para receber a contagem por paciente\n",
    "df['num_alt_dosagem_med'] = 0"
   ]
  },
  {
   "cell_type": "code",
   "execution_count": 116,
   "metadata": {},
   "outputs": [],
   "source": [
    "# Contagem de modificações na dosagem de medicamentos\n",
    "for col in medicamentos:\n",
    "    if col in df.columns:\n",
    "        colname = str(col) + 'temp'\n",
    "        df['num_alt_dosagem_med'] = df['num_alt_dosagem_med'] + df[colname]\n",
    "        del df[colname]"
   ]
  },
  {
   "cell_type": "code",
   "execution_count": 117,
   "metadata": {},
   "outputs": [
    {
     "data": {
      "text/plain": [
       "num_alt_dosagem_med\n",
       "0    71309\n",
       "1    25350\n",
       "2     1281\n",
       "3      107\n",
       "4        5\n",
       "Name: count, dtype: int64"
      ]
     },
     "execution_count": 117,
     "metadata": {},
     "output_type": "execute_result"
    }
   ],
   "source": [
    "# Verifica o total por modificações na dosagem de medicamentos\n",
    "df.num_alt_dosagem_med.value_counts()"
   ]
  },
  {
   "cell_type": "code",
   "execution_count": 118,
   "metadata": {},
   "outputs": [],
   "source": [
    "# Recoding das colunas de medicamentos\n",
    "for col in medicamentos:\n",
    "    if col in df.columns:\n",
    "        df[col] = df[col].replace('No', 0)\n",
    "        df[col] = df[col].replace('Steady', 1)\n",
    "        df[col] = df[col].replace('Up', 1)\n",
    "        df[col] = df[col].replace('Down', 1) "
   ]
  },
  {
   "cell_type": "code",
   "execution_count": 119,
   "metadata": {},
   "outputs": [],
   "source": [
    "df['num_med'] = 0"
   ]
  },
  {
   "cell_type": "code",
   "execution_count": 120,
   "metadata": {},
   "outputs": [],
   "source": [
    "# Carregamos a nova variável\n",
    "for col in medicamentos:\n",
    "    if col in df.columns:\n",
    "        df['num_med'] = df['num_med'] + df[col]"
   ]
  },
  {
   "cell_type": "code",
   "execution_count": 122,
   "metadata": {},
   "outputs": [
    {
     "data": {
      "text/plain": [
       "num_med\n",
       "1    46.349896\n",
       "0    23.153021\n",
       "2    21.474320\n",
       "3     7.633705\n",
       "4     1.325827\n",
       "5     0.058132\n",
       "6     0.005099\n",
       "Name: proportion, dtype: float64"
      ]
     },
     "execution_count": 122,
     "metadata": {},
     "output_type": "execute_result"
    }
   ],
   "source": [
    "# Verifica o total de medicamentos\n",
    "df['num_med'].value_counts(normalize=True) * 100"
   ]
  },
  {
   "cell_type": "code",
   "execution_count": 123,
   "metadata": {},
   "outputs": [],
   "source": [
    "# Remove as colunas de medicamentos\n",
    "df = df.drop(columns = medicamentos)"
   ]
  },
  {
   "cell_type": "code",
   "execution_count": 125,
   "metadata": {},
   "outputs": [],
   "source": [
    "# Recoding de variáveis categóricas binárias\n",
    "df['change'] = df['change'].replace('Ch', 1)\n",
    "df['change'] = df['change'].replace('No', 0)\n",
    "df['gender'] = df['gender'].replace('Male', 1)\n",
    "df['gender'] = df['gender'].replace('Female', 0)\n",
    "df['diabetesMed'] = df['diabetesMed'].replace('Yes', 1)\n",
    "df['diabetesMed'] = df['diabetesMed'].replace('No', 0)"
   ]
  },
  {
   "cell_type": "markdown",
   "metadata": {},
   "source": [
    "Alguns pacientes no conjunto de dados tiveram mais de um encontro (consulta). \n",
    "\n",
    "Não podemos contá-los como encontros independentes, porque isso influencia os resultados para aqueles pacientes que tiveram vários encontros. Assim, tentamos várias técnicas para recolher e consolidar vários encontros para o mesmo paciente, como:\n",
    "\n",
    "- Considerar a permanência média no hospital em vários encontros.\n",
    "- Considerar a porcentagem de alterações na medicação em vários encontros.\n",
    "- Considerar o número total de encontros para substituir o ID exclusivo do encontro.\n",
    "- Considerar a combinação de diagnósticos em vários encontros como uma lista.\n",
    "\n",
    "Por fim, o ideal foi deixar apenas um registro de encontro para cada paciente e optamos por manter o primeiro."
   ]
  },
  {
   "cell_type": "code",
   "execution_count": 126,
   "metadata": {},
   "outputs": [],
   "source": [
    "# Removendo duplicidades por id de paciente, mantendo o primeiro registro\n",
    "df = df.drop_duplicates(subset = ['patient_nbr'], keep = 'first')"
   ]
  },
  {
   "cell_type": "code",
   "execution_count": 127,
   "metadata": {},
   "outputs": [
    {
     "data": {
      "text/plain": [
       "(68629, 22)"
      ]
     },
     "execution_count": 127,
     "metadata": {},
     "output_type": "execute_result"
    }
   ],
   "source": [
    "df.shape"
   ]
  },
  {
   "cell_type": "code",
   "execution_count": 128,
   "metadata": {},
   "outputs": [
    {
     "data": {
      "text/html": [
       "<div>\n",
       "<style scoped>\n",
       "    .dataframe tbody tr th:only-of-type {\n",
       "        vertical-align: middle;\n",
       "    }\n",
       "\n",
       "    .dataframe tbody tr th {\n",
       "        vertical-align: top;\n",
       "    }\n",
       "\n",
       "    .dataframe thead th {\n",
       "        text-align: right;\n",
       "    }\n",
       "</style>\n",
       "<table border=\"1\" class=\"dataframe\">\n",
       "  <thead>\n",
       "    <tr style=\"text-align: right;\">\n",
       "      <th></th>\n",
       "      <th>encounter_id</th>\n",
       "      <th>patient_nbr</th>\n",
       "      <th>race</th>\n",
       "      <th>gender</th>\n",
       "      <th>age</th>\n",
       "      <th>admission_type_id</th>\n",
       "      <th>discharge_disposition_id</th>\n",
       "      <th>admission_source_id</th>\n",
       "      <th>time_in_hospital</th>\n",
       "      <th>num_lab_procedures</th>\n",
       "      <th>...</th>\n",
       "      <th>number_outpatient</th>\n",
       "      <th>number_emergency</th>\n",
       "      <th>number_inpatient</th>\n",
       "      <th>number_diagnoses</th>\n",
       "      <th>change</th>\n",
       "      <th>diabetesMed</th>\n",
       "      <th>readmitted</th>\n",
       "      <th>comorbidade</th>\n",
       "      <th>num_alt_dosagem_med</th>\n",
       "      <th>num_med</th>\n",
       "    </tr>\n",
       "  </thead>\n",
       "  <tbody>\n",
       "    <tr>\n",
       "      <th>1</th>\n",
       "      <td>149190</td>\n",
       "      <td>55629189</td>\n",
       "      <td>Caucasian</td>\n",
       "      <td>0</td>\n",
       "      <td>[0-50)</td>\n",
       "      <td>Emergency</td>\n",
       "      <td>Casa</td>\n",
       "      <td>Sala_Emergencia</td>\n",
       "      <td>3</td>\n",
       "      <td>59</td>\n",
       "      <td>...</td>\n",
       "      <td>0</td>\n",
       "      <td>0</td>\n",
       "      <td>0</td>\n",
       "      <td>9</td>\n",
       "      <td>1</td>\n",
       "      <td>1</td>\n",
       "      <td>1</td>\n",
       "      <td>1</td>\n",
       "      <td>1</td>\n",
       "      <td>1</td>\n",
       "    </tr>\n",
       "    <tr>\n",
       "      <th>2</th>\n",
       "      <td>64410</td>\n",
       "      <td>86047875</td>\n",
       "      <td>AfricanAmerican</td>\n",
       "      <td>0</td>\n",
       "      <td>[0-50)</td>\n",
       "      <td>Emergency</td>\n",
       "      <td>Casa</td>\n",
       "      <td>Sala_Emergencia</td>\n",
       "      <td>2</td>\n",
       "      <td>11</td>\n",
       "      <td>...</td>\n",
       "      <td>2</td>\n",
       "      <td>0</td>\n",
       "      <td>1</td>\n",
       "      <td>6</td>\n",
       "      <td>0</td>\n",
       "      <td>1</td>\n",
       "      <td>0</td>\n",
       "      <td>1</td>\n",
       "      <td>0</td>\n",
       "      <td>1</td>\n",
       "    </tr>\n",
       "    <tr>\n",
       "      <th>3</th>\n",
       "      <td>500364</td>\n",
       "      <td>82442376</td>\n",
       "      <td>Caucasian</td>\n",
       "      <td>1</td>\n",
       "      <td>[0-50)</td>\n",
       "      <td>Emergency</td>\n",
       "      <td>Casa</td>\n",
       "      <td>Sala_Emergencia</td>\n",
       "      <td>2</td>\n",
       "      <td>44</td>\n",
       "      <td>...</td>\n",
       "      <td>0</td>\n",
       "      <td>0</td>\n",
       "      <td>0</td>\n",
       "      <td>7</td>\n",
       "      <td>1</td>\n",
       "      <td>1</td>\n",
       "      <td>0</td>\n",
       "      <td>3</td>\n",
       "      <td>1</td>\n",
       "      <td>1</td>\n",
       "    </tr>\n",
       "    <tr>\n",
       "      <th>4</th>\n",
       "      <td>16680</td>\n",
       "      <td>42519267</td>\n",
       "      <td>Caucasian</td>\n",
       "      <td>1</td>\n",
       "      <td>[0-50)</td>\n",
       "      <td>Emergency</td>\n",
       "      <td>Casa</td>\n",
       "      <td>Sala_Emergencia</td>\n",
       "      <td>1</td>\n",
       "      <td>51</td>\n",
       "      <td>...</td>\n",
       "      <td>0</td>\n",
       "      <td>0</td>\n",
       "      <td>0</td>\n",
       "      <td>5</td>\n",
       "      <td>1</td>\n",
       "      <td>1</td>\n",
       "      <td>0</td>\n",
       "      <td>1</td>\n",
       "      <td>0</td>\n",
       "      <td>2</td>\n",
       "    </tr>\n",
       "    <tr>\n",
       "      <th>5</th>\n",
       "      <td>35754</td>\n",
       "      <td>82637451</td>\n",
       "      <td>Caucasian</td>\n",
       "      <td>1</td>\n",
       "      <td>[50-60)</td>\n",
       "      <td>Outros</td>\n",
       "      <td>Casa</td>\n",
       "      <td>Outro</td>\n",
       "      <td>3</td>\n",
       "      <td>31</td>\n",
       "      <td>...</td>\n",
       "      <td>0</td>\n",
       "      <td>0</td>\n",
       "      <td>0</td>\n",
       "      <td>9</td>\n",
       "      <td>0</td>\n",
       "      <td>1</td>\n",
       "      <td>1</td>\n",
       "      <td>3</td>\n",
       "      <td>0</td>\n",
       "      <td>1</td>\n",
       "    </tr>\n",
       "  </tbody>\n",
       "</table>\n",
       "<p>5 rows × 22 columns</p>\n",
       "</div>"
      ],
      "text/plain": [
       "   encounter_id  patient_nbr             race  gender      age  \\\n",
       "1        149190     55629189        Caucasian       0   [0-50)   \n",
       "2         64410     86047875  AfricanAmerican       0   [0-50)   \n",
       "3        500364     82442376        Caucasian       1   [0-50)   \n",
       "4         16680     42519267        Caucasian       1   [0-50)   \n",
       "5         35754     82637451        Caucasian       1  [50-60)   \n",
       "\n",
       "  admission_type_id discharge_disposition_id admission_source_id  \\\n",
       "1         Emergency                     Casa     Sala_Emergencia   \n",
       "2         Emergency                     Casa     Sala_Emergencia   \n",
       "3         Emergency                     Casa     Sala_Emergencia   \n",
       "4         Emergency                     Casa     Sala_Emergencia   \n",
       "5            Outros                     Casa               Outro   \n",
       "\n",
       "   time_in_hospital  num_lab_procedures  ...  number_outpatient  \\\n",
       "1                 3                  59  ...                  0   \n",
       "2                 2                  11  ...                  2   \n",
       "3                 2                  44  ...                  0   \n",
       "4                 1                  51  ...                  0   \n",
       "5                 3                  31  ...                  0   \n",
       "\n",
       "   number_emergency  number_inpatient  number_diagnoses  change  diabetesMed  \\\n",
       "1                 0                 0                 9       1            1   \n",
       "2                 0                 1                 6       0            1   \n",
       "3                 0                 0                 7       1            1   \n",
       "4                 0                 0                 5       1            1   \n",
       "5                 0                 0                 9       0            1   \n",
       "\n",
       "   readmitted  comorbidade  num_alt_dosagem_med  num_med  \n",
       "1           1            1                    1        1  \n",
       "2           0            1                    0        1  \n",
       "3           0            3                    1        1  \n",
       "4           0            1                    0        2  \n",
       "5           1            3                    0        1  \n",
       "\n",
       "[5 rows x 22 columns]"
      ]
     },
     "execution_count": 128,
     "metadata": {},
     "output_type": "execute_result"
    }
   ],
   "source": [
    "df.head()"
   ]
  },
  {
   "cell_type": "code",
   "execution_count": 129,
   "metadata": {},
   "outputs": [
    {
     "name": "stdout",
     "output_type": "stream",
     "text": [
      "Author: Italo Gonçalves\n",
      "\n"
     ]
    }
   ],
   "source": [
    "%watermark -a \"Italo Gonçalves\""
   ]
  },
  {
   "cell_type": "code",
   "execution_count": null,
   "metadata": {},
   "outputs": [],
   "source": []
  },
  {
   "cell_type": "code",
   "execution_count": null,
   "metadata": {},
   "outputs": [],
   "source": []
  }
 ],
 "metadata": {
  "kernelspec": {
   "display_name": "base",
   "language": "python",
   "name": "python3"
  },
  "language_info": {
   "codemirror_mode": {
    "name": "ipython",
    "version": 3
   },
   "file_extension": ".py",
   "mimetype": "text/x-python",
   "name": "python",
   "nbconvert_exporter": "python",
   "pygments_lexer": "ipython3",
   "version": "3.11.5"
  }
 },
 "nbformat": 4,
 "nbformat_minor": 2
}
